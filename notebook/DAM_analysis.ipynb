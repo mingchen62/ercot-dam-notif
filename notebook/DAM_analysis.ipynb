{
 "cells": [
  {
   "cell_type": "code",
   "execution_count": 1,
   "metadata": {},
   "outputs": [],
   "source": [
    "import sys\n",
    "assert sys.version_info >= (3, 5)\n",
    "\n",
    "from collections import defaultdict\n",
    "from datetime import datetime\n",
    "import json\n",
    "import logging\n",
    "import os\n",
    "from pathlib import Path\n",
    "import random\n",
    "import re\n",
    "import sys\n",
    "from typing import Dict, Tuple\n",
    "import urllib\n",
    "from zipfile import ZipFile\n",
    "\n",
    "import pandas as pd\n",
    "import numpy as np\n",
    "\n",
    "%matplotlib inline\n",
    "import matplotlib as mpl\n",
    "import matplotlib.pyplot as plt"
   ]
  },
  {
   "cell_type": "markdown",
   "metadata": {},
   "source": [
    "# Load and preprocess data"
   ]
  },
  {
   "cell_type": "code",
   "execution_count": 2,
   "metadata": {},
   "outputs": [
    {
     "name": "stdout",
     "output_type": "stream",
     "text": [
      "20210101-20211213 ERCOT Day-Ahead Price.csv\r\n",
      "DAM_analysis.ipynb\r\n"
     ]
    }
   ],
   "source": [
    "!ls"
   ]
  },
  {
   "cell_type": "code",
   "execution_count": 3,
   "metadata": {},
   "outputs": [],
   "source": [
    "df = pd.read_csv ('20210101-20211213 ERCOT Day-Ahead Price.csv')"
   ]
  },
  {
   "cell_type": "code",
   "execution_count": 4,
   "metadata": {},
   "outputs": [
    {
     "data": {
      "text/plain": [
       "<bound method NDFrame.head of                         Date  price        zone\n",
       "0       1/1/2021 12:00:00 AM  24.11      LZ_AEN\n",
       "1       1/1/2021 12:00:00 AM  18.46      LZ_CPS\n",
       "2       1/1/2021 12:00:00 AM  18.31  LZ_HOUSTON\n",
       "3       1/1/2021 12:00:00 AM  18.95     LZ_LCRA\n",
       "4       1/1/2021 12:00:00 AM  18.18    LZ_NORTH\n",
       "...                      ...    ...         ...\n",
       "66555  12/13/2021 4:00:00 PM  28.57     LZ_LCRA\n",
       "66556  12/13/2021 4:00:00 PM  28.92    LZ_NORTH\n",
       "66557  12/13/2021 4:00:00 PM  31.46    LZ_RAYBN\n",
       "66558  12/13/2021 4:00:00 PM  31.54    LZ_SOUTH\n",
       "66559  12/13/2021 4:00:00 PM  25.64     LZ_WEST\n",
       "\n",
       "[66560 rows x 3 columns]>"
      ]
     },
     "execution_count": 4,
     "metadata": {},
     "output_type": "execute_result"
    }
   ],
   "source": [
    "df.head"
   ]
  },
  {
   "cell_type": "code",
   "execution_count": 5,
   "metadata": {},
   "outputs": [
    {
     "data": {
      "text/plain": [
       "Date      object\n",
       "price    float64\n",
       "zone      object\n",
       "dtype: object"
      ]
     },
     "execution_count": 5,
     "metadata": {},
     "output_type": "execute_result"
    }
   ],
   "source": [
    "df.dtypes\n"
   ]
  },
  {
   "cell_type": "code",
   "execution_count": 7,
   "metadata": {},
   "outputs": [
    {
     "data": {
      "text/plain": [
       "0            LZ_AEN\n",
       "1            LZ_CPS\n",
       "2        LZ_HOUSTON\n",
       "3           LZ_LCRA\n",
       "4          LZ_NORTH\n",
       "            ...    \n",
       "66555       LZ_LCRA\n",
       "66556      LZ_NORTH\n",
       "66557      LZ_RAYBN\n",
       "66558      LZ_SOUTH\n",
       "66559       LZ_WEST\n",
       "Name: zone, Length: 66560, dtype: object"
      ]
     },
     "execution_count": 7,
     "metadata": {},
     "output_type": "execute_result"
    }
   ],
   "source": [
    "df.zone.apply(str)\n"
   ]
  },
  {
   "cell_type": "code",
   "execution_count": 8,
   "metadata": {},
   "outputs": [
    {
     "data": {
      "text/plain": [
       "Date      object\n",
       "price    float64\n",
       "zone      object\n",
       "dtype: object"
      ]
     },
     "execution_count": 8,
     "metadata": {},
     "output_type": "execute_result"
    }
   ],
   "source": [
    "df.dtypes"
   ]
  },
  {
   "cell_type": "code",
   "execution_count": 9,
   "metadata": {},
   "outputs": [],
   "source": [
    "df['Date']= pd.to_datetime(df['Date'])"
   ]
  },
  {
   "cell_type": "code",
   "execution_count": 10,
   "metadata": {},
   "outputs": [
    {
     "data": {
      "text/plain": [
       "Date     datetime64[ns]\n",
       "price           float64\n",
       "zone             object\n",
       "dtype: object"
      ]
     },
     "execution_count": 10,
     "metadata": {},
     "output_type": "execute_result"
    }
   ],
   "source": [
    "df.dtypes"
   ]
  },
  {
   "cell_type": "code",
   "execution_count": 11,
   "metadata": {},
   "outputs": [
    {
     "data": {
      "text/plain": [
       "<bound method NDFrame.head of                      Date  price        zone\n",
       "0     2021-01-01 00:00:00  24.11      LZ_AEN\n",
       "1     2021-01-01 00:00:00  18.46      LZ_CPS\n",
       "2     2021-01-01 00:00:00  18.31  LZ_HOUSTON\n",
       "3     2021-01-01 00:00:00  18.95     LZ_LCRA\n",
       "4     2021-01-01 00:00:00  18.18    LZ_NORTH\n",
       "...                   ...    ...         ...\n",
       "66555 2021-12-13 16:00:00  28.57     LZ_LCRA\n",
       "66556 2021-12-13 16:00:00  28.92    LZ_NORTH\n",
       "66557 2021-12-13 16:00:00  31.46    LZ_RAYBN\n",
       "66558 2021-12-13 16:00:00  31.54    LZ_SOUTH\n",
       "66559 2021-12-13 16:00:00  25.64     LZ_WEST\n",
       "\n",
       "[66560 rows x 3 columns]>"
      ]
     },
     "execution_count": 11,
     "metadata": {},
     "output_type": "execute_result"
    }
   ],
   "source": [
    "df.head"
   ]
  },
  {
   "cell_type": "code",
   "execution_count": 12,
   "metadata": {},
   "outputs": [],
   "source": [
    "df = df [df['zone']=='LZ_NORTH']"
   ]
  },
  {
   "cell_type": "code",
   "execution_count": 13,
   "metadata": {},
   "outputs": [
    {
     "data": {
      "text/plain": [
       "<bound method NDFrame.head of                      Date  price      zone\n",
       "4     2021-01-01 00:00:00  18.18  LZ_NORTH\n",
       "12    2021-01-01 01:00:00  17.56  LZ_NORTH\n",
       "20    2021-01-01 02:00:00  17.02  LZ_NORTH\n",
       "28    2021-01-01 03:00:00  17.14  LZ_NORTH\n",
       "36    2021-01-01 04:00:00  17.18  LZ_NORTH\n",
       "...                   ...    ...       ...\n",
       "66524 2021-12-13 12:00:00  24.76  LZ_NORTH\n",
       "66532 2021-12-13 13:00:00  23.29  LZ_NORTH\n",
       "66540 2021-12-13 14:00:00  20.89  LZ_NORTH\n",
       "66548 2021-12-13 15:00:00  20.38  LZ_NORTH\n",
       "66556 2021-12-13 16:00:00  28.92  LZ_NORTH\n",
       "\n",
       "[8320 rows x 3 columns]>"
      ]
     },
     "execution_count": 13,
     "metadata": {},
     "output_type": "execute_result"
    }
   ],
   "source": [
    "df.head"
   ]
  },
  {
   "cell_type": "markdown",
   "metadata": {},
   "source": [
    "# Play with different curtail threshold and ignore Feb for now"
   ]
  },
  {
   "cell_type": "code",
   "execution_count": 14,
   "metadata": {},
   "outputs": [
    {
     "name": "stderr",
     "output_type": "stream",
     "text": [
      "<ipython-input-14-9aab43495f07>:1: SettingWithCopyWarning: \n",
      "A value is trying to be set on a copy of a slice from a DataFrame.\n",
      "Try using .loc[row_indexer,col_indexer] = value instead\n",
      "\n",
      "See the caveats in the documentation: https://pandas.pydata.org/pandas-docs/stable/user_guide/indexing.html#returning-a-view-versus-a-copy\n",
      "  df['month'] = df['Date'].dt.month\n"
     ]
    }
   ],
   "source": [
    "df['month'] = df['Date'].dt.month\n"
   ]
  },
  {
   "cell_type": "code",
   "execution_count": 15,
   "metadata": {},
   "outputs": [
    {
     "data": {
      "text/plain": [
       "<bound method NDFrame.head of                      Date  price      zone  month\n",
       "4     2021-01-01 00:00:00  18.18  LZ_NORTH      1\n",
       "12    2021-01-01 01:00:00  17.56  LZ_NORTH      1\n",
       "20    2021-01-01 02:00:00  17.02  LZ_NORTH      1\n",
       "28    2021-01-01 03:00:00  17.14  LZ_NORTH      1\n",
       "36    2021-01-01 04:00:00  17.18  LZ_NORTH      1\n",
       "...                   ...    ...       ...    ...\n",
       "66524 2021-12-13 12:00:00  24.76  LZ_NORTH     12\n",
       "66532 2021-12-13 13:00:00  23.29  LZ_NORTH     12\n",
       "66540 2021-12-13 14:00:00  20.89  LZ_NORTH     12\n",
       "66548 2021-12-13 15:00:00  20.38  LZ_NORTH     12\n",
       "66556 2021-12-13 16:00:00  28.92  LZ_NORTH     12\n",
       "\n",
       "[8320 rows x 4 columns]>"
      ]
     },
     "execution_count": 15,
     "metadata": {},
     "output_type": "execute_result"
    }
   ],
   "source": [
    "df.head"
   ]
  },
  {
   "cell_type": "code",
   "execution_count": 16,
   "metadata": {},
   "outputs": [],
   "source": [
    "#ignore Feb\n",
    "df = df [df['month'] != 2]"
   ]
  },
  {
   "cell_type": "code",
   "execution_count": 17,
   "metadata": {},
   "outputs": [
    {
     "data": {
      "text/plain": [
       "<bound method NDFrame.head of                      Date  price      zone  month\n",
       "4     2021-01-01 00:00:00  18.18  LZ_NORTH      1\n",
       "12    2021-01-01 01:00:00  17.56  LZ_NORTH      1\n",
       "20    2021-01-01 02:00:00  17.02  LZ_NORTH      1\n",
       "28    2021-01-01 03:00:00  17.14  LZ_NORTH      1\n",
       "36    2021-01-01 04:00:00  17.18  LZ_NORTH      1\n",
       "...                   ...    ...       ...    ...\n",
       "66524 2021-12-13 12:00:00  24.76  LZ_NORTH     12\n",
       "66532 2021-12-13 13:00:00  23.29  LZ_NORTH     12\n",
       "66540 2021-12-13 14:00:00  20.89  LZ_NORTH     12\n",
       "66548 2021-12-13 15:00:00  20.38  LZ_NORTH     12\n",
       "66556 2021-12-13 16:00:00  28.92  LZ_NORTH     12\n",
       "\n",
       "[7648 rows x 4 columns]>"
      ]
     },
     "execution_count": 17,
     "metadata": {},
     "output_type": "execute_result"
    }
   ],
   "source": [
    "df.head"
   ]
  },
  {
   "cell_type": "code",
   "execution_count": 18,
   "metadata": {},
   "outputs": [
    {
     "data": {
      "text/html": [
       "<div>\n",
       "<style scoped>\n",
       "    .dataframe tbody tr th:only-of-type {\n",
       "        vertical-align: middle;\n",
       "    }\n",
       "\n",
       "    .dataframe tbody tr th {\n",
       "        vertical-align: top;\n",
       "    }\n",
       "\n",
       "    .dataframe thead th {\n",
       "        text-align: right;\n",
       "    }\n",
       "</style>\n",
       "<table border=\"1\" class=\"dataframe\">\n",
       "  <thead>\n",
       "    <tr style=\"text-align: right;\">\n",
       "      <th></th>\n",
       "      <th>price</th>\n",
       "      <th>month</th>\n",
       "    </tr>\n",
       "  </thead>\n",
       "  <tbody>\n",
       "    <tr>\n",
       "      <th>count</th>\n",
       "      <td>7648.000000</td>\n",
       "      <td>7648.000000</td>\n",
       "    </tr>\n",
       "    <tr>\n",
       "      <th>mean</th>\n",
       "      <td>36.378580</td>\n",
       "      <td>6.609963</td>\n",
       "    </tr>\n",
       "    <tr>\n",
       "      <th>std</th>\n",
       "      <td>41.676989</td>\n",
       "      <td>3.176297</td>\n",
       "    </tr>\n",
       "    <tr>\n",
       "      <th>min</th>\n",
       "      <td>0.140000</td>\n",
       "      <td>1.000000</td>\n",
       "    </tr>\n",
       "    <tr>\n",
       "      <th>25%</th>\n",
       "      <td>21.360000</td>\n",
       "      <td>4.000000</td>\n",
       "    </tr>\n",
       "    <tr>\n",
       "      <th>50%</th>\n",
       "      <td>29.290000</td>\n",
       "      <td>7.000000</td>\n",
       "    </tr>\n",
       "    <tr>\n",
       "      <th>75%</th>\n",
       "      <td>41.112500</td>\n",
       "      <td>9.000000</td>\n",
       "    </tr>\n",
       "    <tr>\n",
       "      <th>max</th>\n",
       "      <td>1497.800000</td>\n",
       "      <td>12.000000</td>\n",
       "    </tr>\n",
       "  </tbody>\n",
       "</table>\n",
       "</div>"
      ],
      "text/plain": [
       "             price        month\n",
       "count  7648.000000  7648.000000\n",
       "mean     36.378580     6.609963\n",
       "std      41.676989     3.176297\n",
       "min       0.140000     1.000000\n",
       "25%      21.360000     4.000000\n",
       "50%      29.290000     7.000000\n",
       "75%      41.112500     9.000000\n",
       "max    1497.800000    12.000000"
      ]
     },
     "execution_count": 18,
     "metadata": {},
     "output_type": "execute_result"
    }
   ],
   "source": [
    "df.describe()"
   ]
  },
  {
   "cell_type": "code",
   "execution_count": 33,
   "metadata": {},
   "outputs": [
    {
     "data": {
      "text/html": [
       "<div>\n",
       "<style scoped>\n",
       "    .dataframe tbody tr th:only-of-type {\n",
       "        vertical-align: middle;\n",
       "    }\n",
       "\n",
       "    .dataframe tbody tr th {\n",
       "        vertical-align: top;\n",
       "    }\n",
       "\n",
       "    .dataframe thead th {\n",
       "        text-align: right;\n",
       "    }\n",
       "</style>\n",
       "<table border=\"1\" class=\"dataframe\">\n",
       "  <thead>\n",
       "    <tr style=\"text-align: right;\">\n",
       "      <th></th>\n",
       "      <th>price</th>\n",
       "    </tr>\n",
       "    <tr>\n",
       "      <th>month</th>\n",
       "      <th></th>\n",
       "    </tr>\n",
       "  </thead>\n",
       "  <tbody>\n",
       "    <tr>\n",
       "      <th>1</th>\n",
       "      <td>21.757325</td>\n",
       "    </tr>\n",
       "    <tr>\n",
       "      <th>3</th>\n",
       "      <td>21.130767</td>\n",
       "    </tr>\n",
       "    <tr>\n",
       "      <th>4</th>\n",
       "      <td>30.515000</td>\n",
       "    </tr>\n",
       "    <tr>\n",
       "      <th>5</th>\n",
       "      <td>25.030094</td>\n",
       "    </tr>\n",
       "    <tr>\n",
       "      <th>6</th>\n",
       "      <td>42.798667</td>\n",
       "    </tr>\n",
       "    <tr>\n",
       "      <th>7</th>\n",
       "      <td>41.966532</td>\n",
       "    </tr>\n",
       "    <tr>\n",
       "      <th>8</th>\n",
       "      <td>42.333952</td>\n",
       "    </tr>\n",
       "    <tr>\n",
       "      <th>9</th>\n",
       "      <td>45.837375</td>\n",
       "    </tr>\n",
       "    <tr>\n",
       "      <th>10</th>\n",
       "      <td>54.628831</td>\n",
       "    </tr>\n",
       "    <tr>\n",
       "      <th>11</th>\n",
       "      <td>39.964681</td>\n",
       "    </tr>\n",
       "    <tr>\n",
       "      <th>12</th>\n",
       "      <td>32.087377</td>\n",
       "    </tr>\n",
       "  </tbody>\n",
       "</table>\n",
       "</div>"
      ],
      "text/plain": [
       "           price\n",
       "month           \n",
       "1      21.757325\n",
       "3      21.130767\n",
       "4      30.515000\n",
       "5      25.030094\n",
       "6      42.798667\n",
       "7      41.966532\n",
       "8      42.333952\n",
       "9      45.837375\n",
       "10     54.628831\n",
       "11     39.964681\n",
       "12     32.087377"
      ]
     },
     "execution_count": 33,
     "metadata": {},
     "output_type": "execute_result"
    }
   ],
   "source": [
    "df.groupby('month').mean()"
   ]
  },
  {
   "cell_type": "code",
   "execution_count": 37,
   "metadata": {},
   "outputs": [
    {
     "data": {
      "text/plain": [
       "<AxesSubplot:xlabel='month'>"
      ]
     },
     "execution_count": 37,
     "metadata": {},
     "output_type": "execute_result"
    },
    {
     "data": {
      "image/png": "[encoded data removed]",
      "text/plain": [
       "<Figure size 432x288 with 1 Axes>"
      ]
     },
     "metadata": {
      "needs_background": "light"
     },
     "output_type": "display_data"
    }
   ],
   "source": [
    "df.groupby('month').mean().plot(legend=True)"
   ]
  },
  {
   "cell_type": "code",
   "execution_count": 43,
   "metadata": {},
   "outputs": [
    {
     "name": "stdout",
     "output_type": "stream",
     "text": [
      "****************************************************************************************************\n",
      "Curtail at 50\n",
      "           price\n",
      "month           \n",
      "1      21.251049\n",
      "3      20.114455\n",
      "4      23.295657\n",
      "5      24.158306\n",
      "6      27.224281\n",
      "7      30.201244\n",
      "8      31.929072\n",
      "9      34.297750\n",
      "10     38.795104\n",
      "11     33.371073\n",
      "12     29.017651\n",
      "Overall Average  27.72333024118747\n",
      "Uptime percentage  0.8457112970711297\n",
      "****************************************************************************************************\n",
      "Curtail at 55\n",
      "           price\n",
      "month           \n",
      "1      21.424431\n",
      "3      20.376881\n",
      "4      23.698079\n",
      "5      24.536277\n",
      "6      27.775039\n",
      "7      31.330233\n",
      "8      33.213984\n",
      "9      35.842653\n",
      "10     40.070056\n",
      "11     34.594797\n",
      "12     29.666263\n",
      "Overall Average  28.665643122676645\n",
      "Uptime percentage  0.8793148535564853\n",
      "****************************************************************************************************\n",
      "Curtail at 60\n",
      "           price\n",
      "month           \n",
      "1      21.569204\n",
      "3      20.577143\n",
      "4      24.054495\n",
      "5      24.578005\n",
      "6      28.308483\n",
      "7      32.108976\n",
      "8      34.155244\n",
      "9      37.718226\n",
      "10     41.229563\n",
      "11     35.721356\n",
      "12     29.858144\n",
      "Overall Average  29.472113856379217\n",
      "Uptime percentage  0.9049424686192469\n",
      "****************************************************************************************************\n",
      "Curtail at 65\n",
      "           price\n",
      "month           \n",
      "1      21.621509\n",
      "3      20.741572\n",
      "4      24.288231\n",
      "5      24.628089\n",
      "6      28.715772\n",
      "7      32.550252\n",
      "8      34.972202\n",
      "9      38.940099\n",
      "10     42.457776\n",
      "11     36.428156\n",
      "12     30.184184\n",
      "Overall Average  30.08670683300264\n",
      "Uptime percentage  0.9223326359832636\n",
      "****************************************************************************************************\n",
      "Curtail at 70\n",
      "           price\n",
      "month           \n",
      "1      21.621509\n",
      "3      20.802003\n",
      "4      24.733739\n",
      "5      24.797733\n",
      "6      29.399470\n",
      "7      33.350580\n",
      "8      35.837991\n",
      "9      39.894545\n",
      "10     43.671160\n",
      "11     36.992710\n",
      "12     30.304203\n",
      "Overall Average  30.7208249721294\n",
      "Uptime percentage  0.9382845188284519\n",
      "****************************************************************************************************\n",
      "Curtail at 75\n",
      "           price\n",
      "month           \n",
      "1      21.757325\n",
      "3      20.942200\n",
      "4      25.291452\n",
      "5      24.859394\n",
      "6      29.646413\n",
      "7      33.846667\n",
      "8      36.735269\n",
      "9      40.945926\n",
      "10     44.326753\n",
      "11     37.612489\n",
      "12     30.878562\n",
      "Overall Average  31.263819282079588\n",
      "Uptime percentage  0.9507060669456067\n",
      "****************************************************************************************************\n",
      "Curtail at 80\n",
      "           price\n",
      "month           \n",
      "1      21.757325\n",
      "3      20.942200\n",
      "4      25.514438\n",
      "5      24.931548\n",
      "6      29.854883\n",
      "7      34.088378\n",
      "8      37.136063\n",
      "9      42.150642\n",
      "10     45.052695\n",
      "11     37.728167\n",
      "12     31.041700\n",
      "Overall Average  31.626782644289914\n",
      "Uptime percentage  0.9582897489539749\n",
      "****************************************************************************************************\n",
      "Curtail at 85\n",
      "           price\n",
      "month           \n",
      "1      21.757325\n",
      "3      21.025148\n",
      "4      25.675386\n",
      "5      24.931548\n",
      "6      30.238394\n",
      "7      34.154105\n",
      "8      37.841075\n",
      "9      42.852889\n",
      "10     45.711941\n",
      "11     38.109886\n",
      "12     31.041700\n",
      "Overall Average  31.96980756200038\n",
      "Uptime percentage  0.9648274058577406\n",
      "****************************************************************************************************\n",
      "Curtail at 90\n",
      "           price\n",
      "month           \n",
      "1      21.757325\n",
      "3      21.025148\n",
      "4      26.037685\n",
      "5      24.931548\n",
      "6      30.318829\n",
      "7      34.379972\n",
      "8      38.113783\n",
      "9      43.672849\n",
      "10     46.372547\n",
      "11     38.251869\n",
      "12     31.414437\n",
      "Overall Average  32.26691467852821\n",
      "Uptime percentage  0.9700575313807531\n",
      "****************************************************************************************************\n",
      "Curtail at 95\n",
      "           price\n",
      "month           \n",
      "1      21.757325\n",
      "3      21.025148\n",
      "4      26.135520\n",
      "5      24.931548\n",
      "6      30.408225\n",
      "7      34.460734\n",
      "8      38.347059\n",
      "9      44.306335\n",
      "10     46.836332\n",
      "11     38.552539\n",
      "12     31.414437\n",
      "Overall Average  32.47804566823382\n",
      "Uptime percentage  0.9734571129707112\n",
      "****************************************************************************************************\n",
      "Curtail at 100\n",
      "           price\n",
      "month           \n",
      "1      21.757325\n",
      "3      21.130767\n",
      "4      26.444777\n",
      "5      25.030094\n",
      "6      30.504582\n",
      "7      34.815365\n",
      "8      38.598759\n",
      "9      44.531018\n",
      "10     47.345333\n",
      "11     38.882638\n",
      "12     31.637360\n",
      "Overall Average  32.722996119363124\n",
      "Uptime percentage  0.9771182008368201\n"
     ]
    },
    {
     "data": {
      "image/png": "[encoded data removed]",
      "text/plain": [
       "<Figure size 432x288 with 1 Axes>"
      ]
     },
     "metadata": {
      "needs_background": "light"
     },
     "output_type": "display_data"
    },
    {
     "data": {
      "image/png": "[encoded data removed]",
      "text/plain": [
       "<Figure size 432x288 with 1 Axes>"
      ]
     },
     "metadata": {
      "needs_background": "light"
     },
     "output_type": "display_data"
    },
    {
     "data": {
      "image/png": "[encoded data removed]",
      "text/plain": [
       "<Figure size 432x288 with 1 Axes>"
      ]
     },
     "metadata": {
      "needs_background": "light"
     },
     "output_type": "display_data"
    },
    {
     "data": {
      "image/png": "[encoded data removed]",
      "text/plain": [
       "<Figure size 432x288 with 1 Axes>"
      ]
     },
     "metadata": {
      "needs_background": "light"
     },
     "output_type": "display_data"
    },
    {
     "data": {
      "image/png": "[encoded data removed]",
      "text/plain": [
       "<Figure size 432x288 with 1 Axes>"
      ]
     },
     "metadata": {
      "needs_background": "light"
     },
     "output_type": "display_data"
    },
    {
     "data": {
      "image/png": "[encoded data removed]",
      "text/plain": [
       "<Figure size 432x288 with 1 Axes>"
      ]
     },
     "metadata": {
      "needs_background": "light"
     },
     "output_type": "display_data"
    },
    {
     "data": {
      "image/png": "[encoded data removed]",
      "text/plain": [
       "<Figure size 432x288 with 1 Axes>"
      ]
     },
     "metadata": {
      "needs_background": "light"
     },
     "output_type": "display_data"
    },
    {
     "data": {
      "image/png": "[encoded data removed]",
      "text/plain": [
       "<Figure size 432x288 with 1 Axes>"
      ]
     },
     "metadata": {
      "needs_background": "light"
     },
     "output_type": "display_data"
    },
    {
     "data": {
      "image/png": "[encoded data removed]",
      "text/plain": [
       "<Figure size 432x288 with 1 Axes>"
      ]
     },
     "metadata": {
      "needs_background": "light"
     },
     "output_type": "display_data"
    },
    {
     "data": {
      "image/png": "[encoded data removed]",
      "text/plain": [
       "<Figure size 432x288 with 1 Axes>"
      ]
     },
     "metadata": {
      "needs_background": "light"
     },
     "output_type": "display_data"
    },
    {
     "data": {
      "image/png": "[encoded data removed]",
      "text/plain": [
       "<Figure size 432x288 with 1 Axes>"
      ]
     },
     "metadata": {
      "needs_background": "light"
     },
     "output_type": "display_data"
    }
   ],
   "source": [
    "\n",
    "curtail_analysis = pd.DataFrame(columns = ['curtail', 'average', 'uptime'])\n",
    "\n",
    "for curtail in range(50,105, 5):\n",
    "    print(\"*\"*100)\n",
    "    print(\"Curtail at \"+ str(curtail))\n",
    "    df_curtail = df [df['price'] <= curtail]\n",
    "    print(df_curtail.groupby('month').mean())\n",
    "    df_curtail.groupby('month').mean().plot(legend=True)\n",
    "    print(\"Overall Average \", df_curtail['price'].mean())\n",
    "    print(\"Uptime percentage \", df_curtail['Date'].count()/df['Date'].count())\n",
    "    curtail_analysis = curtail_analysis.append({'curtail' : curtail, 'average' :df_curtail['price'].mean(), 'uptime' : df_curtail['Date'].count()/df['Date'].count()}, \n",
    "                ignore_index = True)\n",
    "                                           "
   ]
  },
  {
   "cell_type": "code",
   "execution_count": 44,
   "metadata": {},
   "outputs": [
    {
     "data": {
      "text/plain": [
       "<bound method NDFrame.head of     curtail    average    uptime\n",
       "0      50.0  27.723330  0.845711\n",
       "1      55.0  28.665643  0.879315\n",
       "2      60.0  29.472114  0.904942\n",
       "3      65.0  30.086707  0.922333\n",
       "4      70.0  30.720825  0.938285\n",
       "5      75.0  31.263819  0.950706\n",
       "6      80.0  31.626783  0.958290\n",
       "7      85.0  31.969808  0.964827\n",
       "8      90.0  32.266915  0.970058\n",
       "9      95.0  32.478046  0.973457\n",
       "10    100.0  32.722996  0.977118>"
      ]
     },
     "execution_count": 44,
     "metadata": {},
     "output_type": "execute_result"
    }
   ],
   "source": [
    "curtail_analysis.head"
   ]
  },
  {
   "cell_type": "code",
   "execution_count": 63,
   "metadata": {},
   "outputs": [
    {
     "data": {
      "text/html": [
       "<div>\n",
       "<style scoped>\n",
       "    .dataframe tbody tr th:only-of-type {\n",
       "        vertical-align: middle;\n",
       "    }\n",
       "\n",
       "    .dataframe tbody tr th {\n",
       "        vertical-align: top;\n",
       "    }\n",
       "\n",
       "    .dataframe thead th {\n",
       "        text-align: right;\n",
       "    }\n",
       "</style>\n",
       "<table border=\"1\" class=\"dataframe\">\n",
       "  <thead>\n",
       "    <tr style=\"text-align: right;\">\n",
       "      <th></th>\n",
       "      <th>curtail</th>\n",
       "      <th>average</th>\n",
       "      <th>uptime</th>\n",
       "    </tr>\n",
       "  </thead>\n",
       "  <tbody>\n",
       "    <tr>\n",
       "      <th>0</th>\n",
       "      <td>50.0</td>\n",
       "      <td>27.723330</td>\n",
       "      <td>0.845711</td>\n",
       "    </tr>\n",
       "    <tr>\n",
       "      <th>1</th>\n",
       "      <td>55.0</td>\n",
       "      <td>28.665643</td>\n",
       "      <td>0.879315</td>\n",
       "    </tr>\n",
       "    <tr>\n",
       "      <th>2</th>\n",
       "      <td>60.0</td>\n",
       "      <td>29.472114</td>\n",
       "      <td>0.904942</td>\n",
       "    </tr>\n",
       "    <tr>\n",
       "      <th>3</th>\n",
       "      <td>65.0</td>\n",
       "      <td>30.086707</td>\n",
       "      <td>0.922333</td>\n",
       "    </tr>\n",
       "    <tr>\n",
       "      <th>4</th>\n",
       "      <td>70.0</td>\n",
       "      <td>30.720825</td>\n",
       "      <td>0.938285</td>\n",
       "    </tr>\n",
       "    <tr>\n",
       "      <th>5</th>\n",
       "      <td>75.0</td>\n",
       "      <td>31.263819</td>\n",
       "      <td>0.950706</td>\n",
       "    </tr>\n",
       "    <tr>\n",
       "      <th>6</th>\n",
       "      <td>80.0</td>\n",
       "      <td>31.626783</td>\n",
       "      <td>0.958290</td>\n",
       "    </tr>\n",
       "    <tr>\n",
       "      <th>7</th>\n",
       "      <td>85.0</td>\n",
       "      <td>31.969808</td>\n",
       "      <td>0.964827</td>\n",
       "    </tr>\n",
       "    <tr>\n",
       "      <th>8</th>\n",
       "      <td>90.0</td>\n",
       "      <td>32.266915</td>\n",
       "      <td>0.970058</td>\n",
       "    </tr>\n",
       "    <tr>\n",
       "      <th>9</th>\n",
       "      <td>95.0</td>\n",
       "      <td>32.478046</td>\n",
       "      <td>0.973457</td>\n",
       "    </tr>\n",
       "    <tr>\n",
       "      <th>10</th>\n",
       "      <td>100.0</td>\n",
       "      <td>32.722996</td>\n",
       "      <td>0.977118</td>\n",
       "    </tr>\n",
       "  </tbody>\n",
       "</table>\n",
       "</div>"
      ],
      "text/plain": [
       "    curtail    average    uptime\n",
       "0      50.0  27.723330  0.845711\n",
       "1      55.0  28.665643  0.879315\n",
       "2      60.0  29.472114  0.904942\n",
       "3      65.0  30.086707  0.922333\n",
       "4      70.0  30.720825  0.938285\n",
       "5      75.0  31.263819  0.950706\n",
       "6      80.0  31.626783  0.958290\n",
       "7      85.0  31.969808  0.964827\n",
       "8      90.0  32.266915  0.970058\n",
       "9      95.0  32.478046  0.973457\n",
       "10    100.0  32.722996  0.977118"
      ]
     },
     "execution_count": 63,
     "metadata": {},
     "output_type": "execute_result"
    }
   ],
   "source": [
    "curtail_analysis"
   ]
  },
  {
   "cell_type": "code",
   "execution_count": 58,
   "metadata": {},
   "outputs": [
    {
     "data": {
      "text/plain": [
       "<AxesSubplot:title={'center':'Average after curtail'}, xlabel='curtail'>"
      ]
     },
     "execution_count": 58,
     "metadata": {},
     "output_type": "execute_result"
    },
    {
     "data": {
      "image/png": "[encoded data removed]",
      "text/plain": [
       "<Figure size 432x288 with 1 Axes>"
      ]
     },
     "metadata": {
      "needs_background": "light"
     },
     "output_type": "display_data"
    }
   ],
   "source": [
    "curtail_analysis.plot(x ='curtail', y='average', kind = 'line', title=\"Average after curtail\", \n",
    "                      xticks=range(50,105,5),\n",
    "                      grid=True, legend=False)\n"
   ]
  },
  {
   "cell_type": "code",
   "execution_count": 62,
   "metadata": {},
   "outputs": [
    {
     "data": {
      "text/plain": [
       "<AxesSubplot:title={'center':'Uptime after curtail'}, xlabel='curtail'>"
      ]
     },
     "execution_count": 62,
     "metadata": {},
     "output_type": "execute_result"
    },
    {
     "data": {
      "image/png": "[encoded data removed]",
      "text/plain": [
       "<Figure size 432x288 with 1 Axes>"
      ]
     },
     "metadata": {
      "needs_background": "light"
     },
     "output_type": "display_data"
    }
   ],
   "source": [
    "curtail_analysis.plot(x ='curtail', y='uptime', kind = 'line', title=\"Uptime after curtail\", \n",
    "                      xticks=range(50,105,5),\n",
    "                      #yticks=range(0.84,1.0,0.02),\n",
    "                      grid=True, legend=False)\n"
   ]
  },
  {
   "cell_type": "code",
   "execution_count": null,
   "metadata": {},
   "outputs": [],
   "source": [
    " "
   ]
  }
 ],
 "metadata": {
  "kernelspec": {
   "display_name": "Python 3",
   "language": "python",
   "name": "python3"
  },
  "language_info": {
   "codemirror_mode": {
    "name": "ipython",
    "version": 3
   },
   "file_extension": ".py",
   "mimetype": "text/x-python",
   "name": "python",
   "nbconvert_exporter": "python",
   "pygments_lexer": "ipython3",
   "version": "3.8.3"
  }
 },
 "nbformat": 4,
 "nbformat_minor": 4
}
